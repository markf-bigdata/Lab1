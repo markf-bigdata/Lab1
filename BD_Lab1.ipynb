{
 "cells": [
  {
   "cell_type": "markdown",
   "metadata": {},
   "source": [
    "# City of Seattle Staff Demographic Analysis\n",
    "Mark Fishman, 9/17/19"
   ]
  },
  {
   "cell_type": "markdown",
   "metadata": {},
   "source": [
    "## Abstract\n",
    "In this lab, we will be analyzing the demographics for the staff of the City of Seattle. The questions we are trying to answer are: How old/young is the oldest and youngest persons working for the City of Seattle? What is the average age of the workers? What is the lowest wage of an employee? What is the highest wage of an employee? What is the average wage of the employees?"
   ]
  },
  {
   "cell_type": "markdown",
   "metadata": {},
   "source": [
    "## Dataset Preparation\n",
    "Our dataset will be extracting\n",
    "- the ages\n",
    "- the hourly rates\n",
    "\n",
    "We got our dataset from https://data.seattle.gov/City-Business/City-of-Seattle-Staff-Demographics/5avq-r9hj"
   ]
  },
  {
   "cell_type": "code",
   "execution_count": 33,
   "metadata": {},
   "outputs": [],
   "source": [
    "# Opening the file and storing all data in a list\n",
    "file_data = open('City_of_Seattle_Staff_Demographics.csv', 'r');\n",
    "all_data = [];\n",
    "for row in file_data:\n",
    "    all_data.append(row);\n",
    "file_data.close;\n",
    "\n",
    "\n",
    "# Deleting the first row of data\n",
    "del all_data[0];\n",
    "# Adding all ages to age_data and all wages to wage_data\n",
    "age_data = [];\n",
    "wage_data = [];\n",
    "for item in range (len(all_data)):\n",
    "    data_split = all_data[item].split(\",\");\n",
    "    age_data.append(int(data_split[3]));\n",
    "    wage_data.append(float(data_split[4]));    \n"
   ]
  },
  {
   "cell_type": "markdown",
   "metadata": {},
   "source": [
    "In this code I extracted all of the .csv file into a list. From there, I extracted everyones age into a list and everyones wage into a list"
   ]
  },
  {
   "cell_type": "markdown",
   "metadata": {},
   "source": [
    "## Data Modeling"
   ]
  },
  {
   "cell_type": "code",
   "execution_count": 35,
   "metadata": {},
   "outputs": [
    {
     "name": "stdout",
     "output_type": "stream",
     "text": [
      "AGE DATA:\n",
      "The youngest city of Seattle employee is: 14 years old\n",
      "The oldest city of Seattle employee is: 92 years old\n",
      "The average city of Seattle employee is: 44.53 years old \n",
      "\n",
      "WAGE DATA:\n",
      "The lowest wage of a city of Seattle employee is: $5.53\n",
      "The highest wage of a city of Seattle employee is: $162.84\n",
      "The average wage of a city of Seattle employee is: $40.03\n"
     ]
    }
   ],
   "source": [
    "# Setting all variables needed for calculations or other information\n",
    "min_age = min(age_data);\n",
    "max_age = max(age_data);\n",
    "min_wage = min(wage_data);\n",
    "max_wage = max(wage_data);\n",
    "count_age = len(age_data);\n",
    "count_wage = len(wage_data);\n",
    "sum_age = sum(age_data);\n",
    "sum_wage = sum(wage_data);\n",
    "\n",
    "# Finding the average age and wage\n",
    "average_age = (sum_age / count_age);\n",
    "average_wage = (sum_wage / count_wage);\n",
    "\n",
    "# Displaying data found\n",
    "print(\"AGE DATA:\");\n",
    "print(\"The youngest city of Seattle employee is:\", min_age, \"years old\");\n",
    "print(\"The oldest city of Seattle employee is:\", max_age, \"years old\");\n",
    "print(\"The average city of Seattle employee is: %.2f\" % average_age, \"years old\", '\\n');\n",
    "print(\"WAGE DATA:\");\n",
    "print(\"The lowest wage of a city of Seattle employee is: $\", min_wage, sep='');\n",
    "print(\"The highest wage of a city of Seattle employee is: $%.2f\" % max_wage, sep='');\n",
    "print(\"The average wage of a city of Seattle employee is: $%.2f\" % average_wage, sep='');"
   ]
  },
  {
   "cell_type": "markdown",
   "metadata": {},
   "source": [
    "To find all of the data for the age and wage, I used the python keywords `min`, `max`, `sum` and `len` to find the minimum, maximum and average age/wage. To find the average, I took the sum of all the ages/wages and divided them by toal amount of people"
   ]
  },
  {
   "cell_type": "markdown",
   "metadata": {},
   "source": [
    "## Data Analysis and Conclusion\n",
    "\n",
    "Using this data, I found that the youngest employee is 14 years old, the oldest empoyee is 92 years old and the average employee is 44.53 years old. I also found that the lowest wage of an employee is \\\\$5.53, the highest wage is \\\\$163.84 and the average wage is \\\\$40.03. This lets me come to the conclusion that there is a wide variety of ages of employees who work for the city of Seattle, and that the city of Seattle tends to pay its employees well, with its average wage being roughly \\\\$40. This dataset has also raised some questions for me, such as:\n",
    "- Is it legal to only get paid \\\\$5.53 an hour?\n",
    "- Is it legal for someone only 14 years old to work?\n",
    "- What does the 92 year old employee do for work?\n",
    "\n",
    "\n",
    "\n",
    "\n",
    "\n",
    "\n"
   ]
  },
  {
   "cell_type": "markdown",
   "metadata": {},
   "source": [
    "## Acknowledgements\n",
    "- Ms. Sconyers helped me by answering lots of my questions and I also looked at her code to figure out how to do things such as opening a file, or splitting the data by each comma\n",
    "- Raj helped me by explaining how he completed parts of the assignment that I didn't understand how to complete"
   ]
  },
  {
   "cell_type": "code",
   "execution_count": null,
   "metadata": {},
   "outputs": [],
   "source": []
  }
 ],
 "metadata": {
  "kernelspec": {
   "display_name": "Python 3",
   "language": "python",
   "name": "python3"
  },
  "language_info": {
   "codemirror_mode": {
    "name": "ipython",
    "version": 3
   },
   "file_extension": ".py",
   "mimetype": "text/x-python",
   "name": "python",
   "nbconvert_exporter": "python",
   "pygments_lexer": "ipython3",
   "version": "3.7.3"
  }
 },
 "nbformat": 4,
 "nbformat_minor": 2
}
